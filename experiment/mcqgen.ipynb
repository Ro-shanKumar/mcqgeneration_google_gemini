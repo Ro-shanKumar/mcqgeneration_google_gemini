{
 "cells": [
  {
   "cell_type": "code",
   "execution_count": 1,
   "metadata": {},
   "outputs": [],
   "source": [
    "import os\n",
    "import json\n",
    "import traceback\n",
    "import pandas as pd"
   ]
  },
  {
   "cell_type": "code",
   "execution_count": 6,
   "metadata": {},
   "outputs": [
    {
     "data": {
      "text/plain": [
       "True"
      ]
     },
     "execution_count": 6,
     "metadata": {},
     "output_type": "execute_result"
    }
   ],
   "source": [
    "from dotenv import load_dotenv\n",
    "load_dotenv()"
   ]
  },
  {
   "cell_type": "code",
   "execution_count": 8,
   "metadata": {},
   "outputs": [],
   "source": [
    "KEY = os.getenv('GOOGLE_API_KEY')\n"
   ]
  },
  {
   "cell_type": "code",
   "execution_count": 2,
   "metadata": {},
   "outputs": [
    {
     "name": "stderr",
     "output_type": "stream",
     "text": [
      "c:\\Users\\ASUS\\mcqgeneration_google_gemini\\env\\Lib\\site-packages\\tqdm\\auto.py:21: TqdmWarning: IProgress not found. Please update jupyter and ipywidgets. See https://ipywidgets.readthedocs.io/en/stable/user_install.html\n",
      "  from .autonotebook import tqdm as notebook_tqdm\n"
     ]
    }
   ],
   "source": [
    "from langchain_google_genai import ChatGoogleGenerativeAI"
   ]
  },
  {
   "cell_type": "code",
   "execution_count": 10,
   "metadata": {},
   "outputs": [],
   "source": [
    "llm = ChatGoogleGenerativeAI(model=\"gemini-pro\")"
   ]
  },
  {
   "cell_type": "code",
   "execution_count": 11,
   "metadata": {},
   "outputs": [],
   "source": [
    "from langchain.llms import OpenAI\n",
    "from langchain.prompts import PromptTemplate\n",
    "from langchain.chains import LLMChain\n",
    "from langchain.chains import SequentialChain\n",
    "from langchain.callbacks import get_openai_callback\n",
    "import PyPDF2"
   ]
  },
  {
   "cell_type": "code",
   "execution_count": 37,
   "metadata": {},
   "outputs": [],
   "source": [
    "TEMPLATE = \"\"\"\n",
    "Text : {text}\n",
    "You are an expert MCQ maker. Given the text above, it is you job to \\\n",
    "create a quiz of {number} multiple choice questions for {subject} students in {tone} tone.\n",
    "Make sure the questions are not repeated and check all the questions to be conforming the text as well.\n",
    "Make sure to format your response like RESPONSE_JSON below and use it as a guide. \\\n",
    "Ensure to make {number} MCQs\n",
    "\n",
    "### RESPONSE_JSON\n",
    "{response_json}\n",
    "\"\"\"   "
   ]
  },
  {
   "cell_type": "code",
   "execution_count": 38,
   "metadata": {},
   "outputs": [],
   "source": [
    "RESPONSE_JSON = {\n",
    "    \"1\":{\n",
    "        \"mcq\": \"mutliple choice question\",\n",
    "        \"options\": {\n",
    "            \"a\": \"choice here\",\n",
    "            \"b\": \"choice here\",\n",
    "            \"c\": \"choice here\",\n",
    "            \"d\": \"choice here\"\n",
    "        },\n",
    "        \"correct\": \"correct choice here\"\n",
    "        },\n",
    "    \"2\":{\n",
    "        \"mcq\": \"mutliple choice question\",\n",
    "        \"options\": {\n",
    "            \"a\": \"choice here\",\n",
    "            \"b\": \"choice here\",\n",
    "            \"c\": \"choice here\",\n",
    "            \"d\": \"choice here\"\n",
    "        },\n",
    "        \"correct\": \"correct choice here\"\n",
    "        },\n",
    "    \"3\":{\n",
    "        \"mcq\": \"mutliple choice question\",\n",
    "        \"options\": {\n",
    "            \"a\": \"choice here\",\n",
    "            \"b\": \"choice here\",\n",
    "            \"c\": \"choice here\",\n",
    "            \"d\": \"choice here\"\n",
    "        },\n",
    "        \"correct\": \"correct choice here\"\n",
    "        },\n",
    "    }"
   ]
  },
  {
   "cell_type": "code",
   "execution_count": 39,
   "metadata": {},
   "outputs": [],
   "source": [
    "quiz_generation_prompt = PromptTemplate(\n",
    "    input_variables=[\"text\", \"number\", \"subject\", \"tone\", \"response_json\"],\n",
    "    template=TEMPLATE,\n",
    "    )"
   ]
  },
  {
   "cell_type": "code",
   "execution_count": 40,
   "metadata": {},
   "outputs": [],
   "source": [
    "quiz_chain = LLMChain( llm = llm, prompt = quiz_generation_prompt, output_key=\"quiz\", verbose=True)"
   ]
  },
  {
   "cell_type": "code",
   "execution_count": 41,
   "metadata": {},
   "outputs": [],
   "source": [
    "TEMPLATE2 = \"\"\"\n",
    "You are a expert english grammarian and writer. Given the Multiple Choice Questions for {subject} students.\\\n",
    "You need to evaluate the complexity of the questions and give a complete analysis of the quiz. Only use at max 50 words for complexity analysis.\\\n",
    "if the quiz is not at per the with the cognitive and analytical ablities of the students.\\\n",
    "update the quiz questions which needs to be changed and change the tone such that it perfectly fits the students cognitive and analytical abilities.\\\n",
    "Quiz_MCQs: \n",
    "{quiz}\n",
    "\n",
    "Check from an expert English Writer of the above quiz:\n",
    "\"\"\""
   ]
  },
  {
   "cell_type": "code",
   "execution_count": 42,
   "metadata": {},
   "outputs": [],
   "source": [
    "quiz_evaluation_prompt = PromptTemplate(\n",
    "    input_variables=[\"subject\", \"quiz\"],\n",
    "    template=TEMPLATE2,\n",
    "    )"
   ]
  },
  {
   "cell_type": "code",
   "execution_count": 43,
   "metadata": {},
   "outputs": [],
   "source": [
    "review_chain = LLMChain( llm = llm, prompt = quiz_evaluation_prompt, output_key=\"review\", verbose=True)"
   ]
  },
  {
   "cell_type": "code",
   "execution_count": 44,
   "metadata": {},
   "outputs": [],
   "source": [
    "generate_evaluate_chain = SequentialChain( chains = [quiz_chain, review_chain], input_variables= [\"text\", \"number\", \"tone\", \"subject\", \"response_json\"] , output_variables=[\"quiz\", \"review\"] ,verbose=True)"
   ]
  },
  {
   "cell_type": "code",
   "execution_count": 45,
   "metadata": {},
   "outputs": [],
   "source": [
    "file_path = r\"C:\\Users\\ASUS\\mcqgeneration_google_gemini\\data.txt\""
   ]
  },
  {
   "cell_type": "code",
   "execution_count": 46,
   "metadata": {},
   "outputs": [
    {
     "data": {
      "text/plain": [
       "'The term machine learning was coined in 1959 by Arthur Samuel, an IBM employee and pioneer in the field of computer gaming and artificial intelligence.[9][10] The synonym self-teaching computers was also used in this time period.[11][12]\\n\\nAlthough the earliest machine learning model was introduced in the 1950s when Arthur Samuel invented a program that calculated the winning chance in checkers for each side, the history of machine learning roots back to decades of human desire and effort to study human cognitive processes.[13] In 1949, Canadian psychologist Donald Hebb published the book The Organization of Behavior, in which he introduced a theoretical neural structure formed by certain interactions among nerve cells.[14] Hebb\\'s model of neurons interacting with one another set a groundwork for how AIs and machine learning algorithms work under nodes, or artificial neurons used by computers to communicate data.[13] Other researchers who have studied human cognitive systems contributed to the modern machine learning technologies as well, including logician Walter Pitts and Warren McCulloch, who proposed the early mathematical models of neural networks to come up with algorithms that mirror human thought processes.[13]\\n\\nBy the early 1960s an experimental \"learning machine\" with punched tape memory, called Cybertron, had been developed by Raytheon Company to analyze sonar signals, electrocardiograms, and speech patterns using rudimentary reinforcement learning. It was repetitively \"trained\" by a human operator/teacher to recognize patterns and equipped with a \"goof\" button to cause it to re-evaluate incorrect decisions.[15] A representative book on research into machine learning during the 1960s was Nilsson\\'s book on Learning Machines, dealing mostly with machine learning for pattern classification.[16] Interest related to pattern recognition continued into the 1970s, as described by Duda and Hart in 1973.[17] In 1981 a report was given on using teaching strategies so that an artificial neural network learns to recognize 40 characters (26 letters, 10 digits, and 4 special symbols) from a computer terminal.[18]\\n\\nTom M. Mitchell provided a widely quoted, more formal definition of the algorithms studied in the machine learning field: \"A computer program is said to learn from experience E with respect to some class of tasks T and performance measure P if its performance at tasks in T, as measured by P, improves with experience E.\"[19] This definition of the tasks in which machine learning is concerned offers a fundamentally operational definition rather than defining the field in cognitive terms. This follows Alan Turing\\'s proposal in his paper \"Computing Machinery and Intelligence\", in which the question \"Can machines think?\" is replaced with the question \"Can machines do what we (as thinking entities) can do?\".[20]\\n\\nModern-day machine learning has two objectives. One is to classify data based on models which have been developed; the other purpose is to make predictions for future outcomes based on these models. A hypothetical algorithm specific to classifying data may use computer vision of moles coupled with supervised learning in order to train it to classify the cancerous moles. A machine learning algorithm for stock trading may inform the trader of future potential predictions.[21]'"
      ]
     },
     "execution_count": 46,
     "metadata": {},
     "output_type": "execute_result"
    }
   ],
   "source": [
    "with open(file_path , 'r') as file:\n",
    "    TEXT = file.read()\n",
    "TEXT"
   ]
  },
  {
   "cell_type": "code",
   "execution_count": 47,
   "metadata": {},
   "outputs": [
    {
     "data": {
      "text/plain": [
       "'{\"1\": {\"mcq\": \"mutliple choice question\", \"options\": {\"a\": \"choice here\", \"b\": \"choice here\", \"c\": \"choice here\", \"d\": \"choice here\"}, \"correct\": \"correct choice here\"}, \"2\": {\"mcq\": \"mutliple choice question\", \"options\": {\"a\": \"choice here\", \"b\": \"choice here\", \"c\": \"choice here\", \"d\": \"choice here\"}, \"correct\": \"correct choice here\"}, \"3\": {\"mcq\": \"mutliple choice question\", \"options\": {\"a\": \"choice here\", \"b\": \"choice here\", \"c\": \"choice here\", \"d\": \"choice here\"}, \"correct\": \"correct choice here\"}}'"
      ]
     },
     "execution_count": 47,
     "metadata": {},
     "output_type": "execute_result"
    }
   ],
   "source": [
    "json.dumps(RESPONSE_JSON)"
   ]
  },
  {
   "cell_type": "code",
   "execution_count": 48,
   "metadata": {},
   "outputs": [],
   "source": [
    "NUMBER = 5\n",
    "SUBJECT  = \"Machine Learning\"\n",
    "TONE = \"Simple\""
   ]
  },
  {
   "cell_type": "code",
   "execution_count": 49,
   "metadata": {},
   "outputs": [
    {
     "name": "stdout",
     "output_type": "stream",
     "text": [
      "\n",
      "\n",
      "\u001b[1m> Entering new SequentialChain chain...\u001b[0m\n",
      "\n",
      "\n",
      "\u001b[1m> Entering new LLMChain chain...\u001b[0m\n",
      "Prompt after formatting:\n",
      "\u001b[32;1m\u001b[1;3m\n",
      "Text : The term machine learning was coined in 1959 by Arthur Samuel, an IBM employee and pioneer in the field of computer gaming and artificial intelligence.[9][10] The synonym self-teaching computers was also used in this time period.[11][12]\n",
      "\n",
      "Although the earliest machine learning model was introduced in the 1950s when Arthur Samuel invented a program that calculated the winning chance in checkers for each side, the history of machine learning roots back to decades of human desire and effort to study human cognitive processes.[13] In 1949, Canadian psychologist Donald Hebb published the book The Organization of Behavior, in which he introduced a theoretical neural structure formed by certain interactions among nerve cells.[14] Hebb's model of neurons interacting with one another set a groundwork for how AIs and machine learning algorithms work under nodes, or artificial neurons used by computers to communicate data.[13] Other researchers who have studied human cognitive systems contributed to the modern machine learning technologies as well, including logician Walter Pitts and Warren McCulloch, who proposed the early mathematical models of neural networks to come up with algorithms that mirror human thought processes.[13]\n",
      "\n",
      "By the early 1960s an experimental \"learning machine\" with punched tape memory, called Cybertron, had been developed by Raytheon Company to analyze sonar signals, electrocardiograms, and speech patterns using rudimentary reinforcement learning. It was repetitively \"trained\" by a human operator/teacher to recognize patterns and equipped with a \"goof\" button to cause it to re-evaluate incorrect decisions.[15] A representative book on research into machine learning during the 1960s was Nilsson's book on Learning Machines, dealing mostly with machine learning for pattern classification.[16] Interest related to pattern recognition continued into the 1970s, as described by Duda and Hart in 1973.[17] In 1981 a report was given on using teaching strategies so that an artificial neural network learns to recognize 40 characters (26 letters, 10 digits, and 4 special symbols) from a computer terminal.[18]\n",
      "\n",
      "Tom M. Mitchell provided a widely quoted, more formal definition of the algorithms studied in the machine learning field: \"A computer program is said to learn from experience E with respect to some class of tasks T and performance measure P if its performance at tasks in T, as measured by P, improves with experience E.\"[19] This definition of the tasks in which machine learning is concerned offers a fundamentally operational definition rather than defining the field in cognitive terms. This follows Alan Turing's proposal in his paper \"Computing Machinery and Intelligence\", in which the question \"Can machines think?\" is replaced with the question \"Can machines do what we (as thinking entities) can do?\".[20]\n",
      "\n",
      "Modern-day machine learning has two objectives. One is to classify data based on models which have been developed; the other purpose is to make predictions for future outcomes based on these models. A hypothetical algorithm specific to classifying data may use computer vision of moles coupled with supervised learning in order to train it to classify the cancerous moles. A machine learning algorithm for stock trading may inform the trader of future potential predictions.[21]\n",
      "You are an expert MCQ maker. Given the text above, it is you job to create a quiz of 5 multiple choice questions for Machine Learning students in Simple tone.\n",
      "Make sure the questions are not repeated and check all the questions to be conforming the text as well.\n",
      "Make sure to format your response like RESPONSE_JSON below and use it as a guide. Ensure to make 5 MCQs\n",
      "\n",
      "### RESPONSE_JSON\n",
      "{\"1\": {\"mcq\": \"mutliple choice question\", \"options\": {\"a\": \"choice here\", \"b\": \"choice here\", \"c\": \"choice here\", \"d\": \"choice here\"}, \"correct\": \"correct choice here\"}, \"2\": {\"mcq\": \"mutliple choice question\", \"options\": {\"a\": \"choice here\", \"b\": \"choice here\", \"c\": \"choice here\", \"d\": \"choice here\"}, \"correct\": \"correct choice here\"}, \"3\": {\"mcq\": \"mutliple choice question\", \"options\": {\"a\": \"choice here\", \"b\": \"choice here\", \"c\": \"choice here\", \"d\": \"choice here\"}, \"correct\": \"correct choice here\"}}\n",
      "\u001b[0m\n",
      "\n",
      "\u001b[1m> Finished chain.\u001b[0m\n",
      "\n",
      "\n",
      "\u001b[1m> Entering new LLMChain chain...\u001b[0m\n",
      "Prompt after formatting:\n",
      "\u001b[32;1m\u001b[1;3m\n",
      "You are a expert english grammarian and writer. Given the Multiple Choice Questions for Machine Learning students.You need to evaluate the complexity of the questions and give a complete analysis of the quiz. Only use at max 50 words for complexity analysis.if the quiz is not at per the with the cognitive and analytical ablities of the students.update the quiz questions which needs to be changed and change the tone such that it perfectly fits the students cognitive and analytical abilities.Quiz_MCQs: \n",
      "### RESPONSE_JSON\n",
      "{\"1\": {\"mcq\": \"Who is known as the pioneer in the field of computer gaming and artificial intelligence and coined the term machine learning in 1959?\", \"options\": {\"a\": \"Donald Hebb\", \"b\": \"Arthur Samuel\", \"c\": \"Walter Pitts\", \"d\": \"Tom M. Mitchell\"}, \"correct\": \"b\"}, \"2\": {\"mcq\": \"What was the name of the experimental learning machine developed by Raytheon Company?\", \"options\": {\"a\": \"Cybertron\", \"b\": \"Learning Machine\", \"c\": \"Pattern Recognizer\", \"d\": \"Artificial Neural Network\"}, \"correct\": \"a\"}, \"3\": {\"mcq\": \"Which psychologist's work on neural structure influenced the development of machine learning algorithms?\", \"options\": {\"a\": \"Walter Pitts\", \"b\": \"Warren McCulloch\", \"c\": \"Donald Hebb\", \"d\": \"Tom M. Mitchell\"}, \"correct\": \"c\"}, \"4\": {\"mcq\": \"What is a widely quoted definition of machine learning given by Tom M. Mitchell?\", \"options\": {\"a\": \"Machine learning is the ability of a computer to learn without being explicitly programmed.\", \"b\": \"Machine learning is the study of algorithms that can improve their performance over time.\", \"c\": \"Machine learning is the process of teaching a computer to recognize patterns.\", \"d\": \"Machine learning is the use of artificial intelligence to solve problems.\"}, \"correct\": \"b\"}, \"5\": {\"mcq\": \"What are the two main objectives of modern-day machine learning?\", \"options\": {\"a\": \"To classify data and make predictions\", \"b\": \"To solve complex problems and improve efficiency\", \"c\": \"To automate tasks and reduce human error\", \"d\": \"To create artificial intelligence systems that can think like humans\"}, \"correct\": \"a\"}}\n",
      "\n",
      "Check from an expert English Writer of the above quiz:\n",
      "\u001b[0m\n",
      "\n",
      "\u001b[1m> Finished chain.\u001b[0m\n",
      "\n",
      "\u001b[1m> Finished chain.\u001b[0m\n",
      "### RESPONSE_JSON\n",
      "{\"1\": {\"mcq\": \"Who is known as the pioneer in the field of computer gaming and artificial intelligence and coined the term machine learning in 1959?\", \"options\": {\"a\": \"Donald Hebb\", \"b\": \"Arthur Samuel\", \"c\": \"Walter Pitts\", \"d\": \"Tom M. Mitchell\"}, \"correct\": \"b\"}, \"2\": {\"mcq\": \"What was the name of the experimental learning machine developed by Raytheon Company?\", \"options\": {\"a\": \"Cybertron\", \"b\": \"Learning Machine\", \"c\": \"Pattern Recognizer\", \"d\": \"Artificial Neural Network\"}, \"correct\": \"a\"}, \"3\": {\"mcq\": \"Which psychologist's work on neural structure influenced the development of machine learning algorithms?\", \"options\": {\"a\": \"Walter Pitts\", \"b\": \"Warren McCulloch\", \"c\": \"Donald Hebb\", \"d\": \"Tom M. Mitchell\"}, \"correct\": \"c\"}, \"4\": {\"mcq\": \"What is a widely quoted definition of machine learning given by Tom M. Mitchell?\", \"options\": {\"a\": \"Machine learning is the ability of a computer to learn without being explicitly programmed.\", \"b\": \"Machine learning is the study of algorithms that can improve their performance over time.\", \"c\": \"Machine learning is the process of teaching a computer to recognize patterns.\", \"d\": \"Machine learning is the use of artificial intelligence to solve problems.\"}, \"correct\": \"b\"}, \"5\": {\"mcq\": \"What are the two main objectives of modern-day machine learning?\", \"options\": {\"a\": \"To classify data and make predictions\", \"b\": \"To solve complex problems and improve efficiency\", \"c\": \"To automate tasks and reduce human error\", \"d\": \"To create artificial intelligence systems that can think like humans\"}, \"correct\": \"a\"}}\n"
     ]
    }
   ],
   "source": [
    "response = generate_evaluate_chain({\n",
    "    \"text\": TEXT,\n",
    "    \"number\": NUMBER,\n",
    "    \"tone\": TONE,\n",
    "    \"subject\": SUBJECT,\n",
    "    \"response_json\": json.dumps(RESPONSE_JSON)\n",
    "})\n",
    "print(response[\"quiz\"].strip()) "
   ]
  },
  {
   "cell_type": "code",
   "execution_count": 53,
   "metadata": {},
   "outputs": [],
   "source": [
    "text = response.get(\"quiz\")\n",
    "json_start_index = text.find('{')\n",
    "json_str = text[json_start_index:]\n",
    "json_data = json.loads(json_str)"
   ]
  },
  {
   "cell_type": "code",
   "execution_count": 54,
   "metadata": {},
   "outputs": [
    {
     "data": {
      "text/plain": [
       "{'1': {'mcq': 'Who is known as the pioneer in the field of computer gaming and artificial intelligence and coined the term machine learning in 1959?',\n",
       "  'options': {'a': 'Donald Hebb',\n",
       "   'b': 'Arthur Samuel',\n",
       "   'c': 'Walter Pitts',\n",
       "   'd': 'Tom M. Mitchell'},\n",
       "  'correct': 'b'},\n",
       " '2': {'mcq': 'What was the name of the experimental learning machine developed by Raytheon Company?',\n",
       "  'options': {'a': 'Cybertron',\n",
       "   'b': 'Learning Machine',\n",
       "   'c': 'Pattern Recognizer',\n",
       "   'd': 'Artificial Neural Network'},\n",
       "  'correct': 'a'},\n",
       " '3': {'mcq': \"Which psychologist's work on neural structure influenced the development of machine learning algorithms?\",\n",
       "  'options': {'a': 'Walter Pitts',\n",
       "   'b': 'Warren McCulloch',\n",
       "   'c': 'Donald Hebb',\n",
       "   'd': 'Tom M. Mitchell'},\n",
       "  'correct': 'c'},\n",
       " '4': {'mcq': 'What is a widely quoted definition of machine learning given by Tom M. Mitchell?',\n",
       "  'options': {'a': 'Machine learning is the ability of a computer to learn without being explicitly programmed.',\n",
       "   'b': 'Machine learning is the study of algorithms that can improve their performance over time.',\n",
       "   'c': 'Machine learning is the process of teaching a computer to recognize patterns.',\n",
       "   'd': 'Machine learning is the use of artificial intelligence to solve problems.'},\n",
       "  'correct': 'b'},\n",
       " '5': {'mcq': 'What are the two main objectives of modern-day machine learning?',\n",
       "  'options': {'a': 'To classify data and make predictions',\n",
       "   'b': 'To solve complex problems and improve efficiency',\n",
       "   'c': 'To automate tasks and reduce human error',\n",
       "   'd': 'To create artificial intelligence systems that can think like humans'},\n",
       "  'correct': 'a'}}"
      ]
     },
     "execution_count": 54,
     "metadata": {},
     "output_type": "execute_result"
    }
   ],
   "source": [
    "json_data"
   ]
  },
  {
   "cell_type": "code",
   "execution_count": 57,
   "metadata": {},
   "outputs": [],
   "source": [
    "quiz_table_data = []\n",
    "for key, value in json_data.items():\n",
    "    mcq = value[\"mcq\"]\n",
    "    options =\" | \".join(\n",
    "        [\n",
    "            f\"{option} : {option_value}\"\n",
    "            for option, option_value in value[\"options\"].items()\n",
    "        ]\n",
    "        )\n",
    "    correct = value[\"correct\"]\n",
    "    quiz_table_data.append({\"MCQ\" : mcq, \"Options\" : options, \"Correct\" : correct})"
   ]
  },
  {
   "cell_type": "code",
   "execution_count": 58,
   "metadata": {},
   "outputs": [
    {
     "data": {
      "text/plain": [
       "[{'MCQ': 'Who is known as the pioneer in the field of computer gaming and artificial intelligence and coined the term machine learning in 1959?',\n",
       "  'Options': 'a : Donald Hebb | b : Arthur Samuel | c : Walter Pitts | d : Tom M. Mitchell',\n",
       "  'Correct': 'b'},\n",
       " {'MCQ': 'What was the name of the experimental learning machine developed by Raytheon Company?',\n",
       "  'Options': 'a : Cybertron | b : Learning Machine | c : Pattern Recognizer | d : Artificial Neural Network',\n",
       "  'Correct': 'a'},\n",
       " {'MCQ': \"Which psychologist's work on neural structure influenced the development of machine learning algorithms?\",\n",
       "  'Options': 'a : Walter Pitts | b : Warren McCulloch | c : Donald Hebb | d : Tom M. Mitchell',\n",
       "  'Correct': 'c'},\n",
       " {'MCQ': 'What is a widely quoted definition of machine learning given by Tom M. Mitchell?',\n",
       "  'Options': 'a : Machine learning is the ability of a computer to learn without being explicitly programmed. | b : Machine learning is the study of algorithms that can improve their performance over time. | c : Machine learning is the process of teaching a computer to recognize patterns. | d : Machine learning is the use of artificial intelligence to solve problems.',\n",
       "  'Correct': 'b'},\n",
       " {'MCQ': 'What are the two main objectives of modern-day machine learning?',\n",
       "  'Options': 'a : To classify data and make predictions | b : To solve complex problems and improve efficiency | c : To automate tasks and reduce human error | d : To create artificial intelligence systems that can think like humans',\n",
       "  'Correct': 'a'}]"
      ]
     },
     "execution_count": 58,
     "metadata": {},
     "output_type": "execute_result"
    }
   ],
   "source": [
    "quiz_table_data"
   ]
  },
  {
   "cell_type": "code",
   "execution_count": 60,
   "metadata": {},
   "outputs": [],
   "source": [
    "quiz = pd.DataFrame(quiz_table_data)"
   ]
  },
  {
   "cell_type": "code",
   "execution_count": 61,
   "metadata": {},
   "outputs": [],
   "source": [
    "quiz.to_csv(\"machine_learning_quiz.csv\", index=False)"
   ]
  },
  {
   "cell_type": "code",
   "execution_count": null,
   "metadata": {},
   "outputs": [],
   "source": []
  }
 ],
 "metadata": {
  "kernelspec": {
   "display_name": "Python 3",
   "language": "python",
   "name": "python3"
  },
  "language_info": {
   "codemirror_mode": {
    "name": "ipython",
    "version": 3
   },
   "file_extension": ".py",
   "mimetype": "text/x-python",
   "name": "python",
   "nbconvert_exporter": "python",
   "pygments_lexer": "ipython3",
   "version": "3.11.8"
  }
 },
 "nbformat": 4,
 "nbformat_minor": 2
}
